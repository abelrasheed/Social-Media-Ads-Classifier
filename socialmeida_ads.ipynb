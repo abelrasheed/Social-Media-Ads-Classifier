{
 "cells": [
  {
   "cell_type": "markdown",
   "id": "difficult-tribune",
   "metadata": {},
   "source": [
    "# Social Network Ads\n",
    "## Submitted by : Abel Rasheed\n",
    "* Here I have experimented by training the data on different supervised learning algorithms to find the best classifier algorithm for the given dataset, ie Social Network Ads.\n",
    "* Seperate decision boundaries are drawn for each algorithms\n",
    "\n"
   ]
  },
  {
   "cell_type": "markdown",
   "id": "economic-easter",
   "metadata": {},
   "source": [
    "## Importing required libraries"
   ]
  },
  {
   "cell_type": "code",
   "execution_count": 3,
   "id": "irish-coverage",
   "metadata": {},
   "outputs": [],
   "source": [
    "import pandas as pd\n",
    "import numpy as np\n",
    "from sklearn.model_selection import train_test_split\n",
    "from sklearn.preprocessing import StandardScaler\n",
    "from matplotlib import pyplot as plt\n",
    "\n"
   ]
  },
  {
   "cell_type": "code",
   "execution_count": 4,
   "id": "arctic-newsletter",
   "metadata": {},
   "outputs": [],
   "source": [
    "#importing logistic regression from scikit-learn\n",
    "from sklearn.linear_model import LogisticRegression\n",
    "#importing KNN classifier from scikit-learn\n",
    "from sklearn.neighbors import KNeighborsClassifier"
   ]
  },
  {
   "cell_type": "markdown",
   "id": "absent-performer",
   "metadata": {},
   "source": [
    "### Imporiting tensorflow libraries needed for deep Learning"
   ]
  },
  {
   "cell_type": "code",
   "execution_count": 5,
   "id": "soviet-edition",
   "metadata": {},
   "outputs": [],
   "source": [
    "import tensorflow as tf\n",
    "from tensorflow import keras\n",
    "from tensorflow.keras.models import Sequential,load_model\n",
    "from tensorflow.keras.layers import Activation, Dense\n",
    "from tensorflow.keras.optimizers import Adam"
   ]
  },
  {
   "cell_type": "markdown",
   "id": "subsequent-conflict",
   "metadata": {},
   "source": [
    "### Importing DecisionTree class that is written from scratch"
   ]
  },
  {
   "cell_type": "code",
   "execution_count": 6,
   "id": "viral-possession",
   "metadata": {},
   "outputs": [],
   "source": [
    "from decision_tree_scratch import DecisionTree"
   ]
  },
  {
   "cell_type": "markdown",
   "id": "detailed-ceramic",
   "metadata": {},
   "source": [
    "### Loading the dataset into a pandas dataframe"
   ]
  },
  {
   "cell_type": "code",
   "execution_count": 7,
   "id": "municipal-serbia",
   "metadata": {},
   "outputs": [
    {
     "data": {
      "text/html": [
       "<div>\n",
       "<style scoped>\n",
       "    .dataframe tbody tr th:only-of-type {\n",
       "        vertical-align: middle;\n",
       "    }\n",
       "\n",
       "    .dataframe tbody tr th {\n",
       "        vertical-align: top;\n",
       "    }\n",
       "\n",
       "    .dataframe thead th {\n",
       "        text-align: right;\n",
       "    }\n",
       "</style>\n",
       "<table border=\"1\" class=\"dataframe\">\n",
       "  <thead>\n",
       "    <tr style=\"text-align: right;\">\n",
       "      <th></th>\n",
       "      <th>User ID</th>\n",
       "      <th>Gender</th>\n",
       "      <th>Age</th>\n",
       "      <th>EstimatedSalary</th>\n",
       "      <th>Purchased</th>\n",
       "    </tr>\n",
       "  </thead>\n",
       "  <tbody>\n",
       "    <tr>\n",
       "      <th>0</th>\n",
       "      <td>15624510</td>\n",
       "      <td>Male</td>\n",
       "      <td>19</td>\n",
       "      <td>19000</td>\n",
       "      <td>0</td>\n",
       "    </tr>\n",
       "    <tr>\n",
       "      <th>1</th>\n",
       "      <td>15810944</td>\n",
       "      <td>Male</td>\n",
       "      <td>35</td>\n",
       "      <td>20000</td>\n",
       "      <td>0</td>\n",
       "    </tr>\n",
       "    <tr>\n",
       "      <th>2</th>\n",
       "      <td>15668575</td>\n",
       "      <td>Female</td>\n",
       "      <td>26</td>\n",
       "      <td>43000</td>\n",
       "      <td>0</td>\n",
       "    </tr>\n",
       "    <tr>\n",
       "      <th>3</th>\n",
       "      <td>15603246</td>\n",
       "      <td>Female</td>\n",
       "      <td>27</td>\n",
       "      <td>57000</td>\n",
       "      <td>0</td>\n",
       "    </tr>\n",
       "    <tr>\n",
       "      <th>4</th>\n",
       "      <td>15804002</td>\n",
       "      <td>Male</td>\n",
       "      <td>19</td>\n",
       "      <td>76000</td>\n",
       "      <td>0</td>\n",
       "    </tr>\n",
       "  </tbody>\n",
       "</table>\n",
       "</div>"
      ],
      "text/plain": [
       "   User ID   Gender   Age   EstimatedSalary   Purchased\n",
       "0  15624510    Male     19             19000          0\n",
       "1  15810944    Male     35             20000          0\n",
       "2  15668575  Female     26             43000          0\n",
       "3  15603246  Female     27             57000          0\n",
       "4  15804002    Male     19             76000          0"
      ]
     },
     "execution_count": 7,
     "metadata": {},
     "output_type": "execute_result"
    }
   ],
   "source": [
    "df = pd.read_csv(\"social_ads.csv\")\n",
    "df.head()"
   ]
  },
  {
   "cell_type": "markdown",
   "id": "related-american",
   "metadata": {},
   "source": [
    "### Feeding the values of X and y into numpy arrays"
   ]
  },
  {
   "cell_type": "code",
   "execution_count": 8,
   "id": "criminal-japanese",
   "metadata": {},
   "outputs": [],
   "source": [
    "X = df.iloc[:,2:4].values\n",
    "y = df.iloc[:,-1].values"
   ]
  },
  {
   "cell_type": "markdown",
   "id": "explicit-prime",
   "metadata": {},
   "source": [
    "### Splitting the data into train and test datasets, for training and testing the data"
   ]
  },
  {
   "cell_type": "code",
   "execution_count": 9,
   "id": "vulnerable-principle",
   "metadata": {},
   "outputs": [],
   "source": [
    "X_train,X_test,y_train,y_test = train_test_split(X,y,test_size=.2)"
   ]
  },
  {
   "cell_type": "markdown",
   "id": "minimal-vertical",
   "metadata": {},
   "source": [
    "### Scaling the data so as to perform efficiently and acurately, for the differently parameters need to be on scale for the algorithm to perform accurately"
   ]
  },
  {
   "cell_type": "code",
   "execution_count": 10,
   "id": "rural-submission",
   "metadata": {},
   "outputs": [],
   "source": [
    "scaler = StandardScaler()"
   ]
  },
  {
   "cell_type": "code",
   "execution_count": 11,
   "id": "latter-invalid",
   "metadata": {},
   "outputs": [],
   "source": [
    "X_train = scaler.fit_transform(X_train)"
   ]
  },
  {
   "cell_type": "code",
   "execution_count": 12,
   "id": "cathedral-partition",
   "metadata": {},
   "outputs": [],
   "source": [
    "X_test = scaler.fit_transform(X_test)"
   ]
  },
  {
   "cell_type": "markdown",
   "id": "excess-sugar",
   "metadata": {},
   "source": [
    "## Here we start creating a mesh grid that is, mapping the plot into  an array to draw the decision boudaries for different classifier functions"
   ]
  },
  {
   "cell_type": "code",
   "execution_count": 13,
   "id": "laden-finnish",
   "metadata": {},
   "outputs": [],
   "source": [
    "inp1 = np.arange(start=X_train[:,0].min()-1,stop=X_train[:,0].max()+1,step=.01)"
   ]
  },
  {
   "cell_type": "code",
   "execution_count": 14,
   "id": "waiting-shareware",
   "metadata": {},
   "outputs": [],
   "source": [
    "inp2 = np.arange(start=X_train[:,1].min()-1,stop=X_train[:,1].max()+1,step=.01)"
   ]
  },
  {
   "cell_type": "code",
   "execution_count": 15,
   "id": "retained-philippines",
   "metadata": {},
   "outputs": [],
   "source": [
    "XX,YY = np.meshgrid(inp1,inp2)"
   ]
  },
  {
   "cell_type": "code",
   "execution_count": 16,
   "id": "existing-treasure",
   "metadata": {},
   "outputs": [],
   "source": [
    "mesh = np.array([XX.ravel(),YY.ravel()]).T"
   ]
  },
  {
   "cell_type": "markdown",
   "id": "taken-warrior",
   "metadata": {},
   "source": [
    "# Here we start experimenting by training the training data on various classifiers"
   ]
  },
  {
   "cell_type": "markdown",
   "id": "massive-concert",
   "metadata": {},
   "source": [
    "## 1. Logistic Regression"
   ]
  },
  {
   "cell_type": "code",
   "execution_count": 17,
   "id": "outdoor-intake",
   "metadata": {},
   "outputs": [
    {
     "data": {
      "text/plain": [
       "LogisticRegression()"
      ]
     },
     "execution_count": 17,
     "metadata": {},
     "output_type": "execute_result"
    }
   ],
   "source": [
    "clf = LogisticRegression()\n",
    "clf.fit(X_train,y_train)"
   ]
  },
  {
   "cell_type": "code",
   "execution_count": 18,
   "id": "widespread-precipitation",
   "metadata": {},
   "outputs": [],
   "source": [
    "predictions = clf.predict(X_test)"
   ]
  },
  {
   "cell_type": "code",
   "execution_count": 19,
   "id": "honest-rebel",
   "metadata": {},
   "outputs": [
    {
     "data": {
      "text/plain": [
       "0.7875"
      ]
     },
     "execution_count": 19,
     "metadata": {},
     "output_type": "execute_result"
    }
   ],
   "source": [
    "accuracy = sum(predictions == y_test)/len(y_test)\n",
    "accuracy"
   ]
  },
  {
   "cell_type": "code",
   "execution_count": 20,
   "id": "flush-montana",
   "metadata": {},
   "outputs": [
    {
     "data": {
      "text/plain": [
       "358785"
      ]
     },
     "execution_count": 20,
     "metadata": {},
     "output_type": "execute_result"
    }
   ],
   "source": [
    "out = clf.predict(mesh)\n",
    "len(out)"
   ]
  },
  {
   "cell_type": "code",
   "execution_count": 21,
   "id": "alpha-shakespeare",
   "metadata": {},
   "outputs": [
    {
     "data": {
      "text/plain": [
       "<matplotlib.collections.PathCollection at 0x1d86f129048>"
      ]
     },
     "execution_count": 21,
     "metadata": {},
     "output_type": "execute_result"
    },
    {
     "data": {
      "image/png": "[encoded data removed]",
      "text/plain": [
       "<Figure size 432x288 with 1 Axes>"
      ]
     },
     "metadata": {
      "needs_background": "light"
     },
     "output_type": "display_data"
    }
   ],
   "source": [
    "plt.contourf(XX,YY,out.reshape(XX.shape))\n",
    "plt.scatter(X_train[:,0],X_train[:,1],c=y_train)"
   ]
  },
  {
   "cell_type": "markdown",
   "id": "excessive-audience",
   "metadata": {},
   "source": [
    "## 2. K Nearest Neighbours"
   ]
  },
  {
   "cell_type": "code",
   "execution_count": 22,
   "id": "healthy-saint",
   "metadata": {},
   "outputs": [],
   "source": [
    "knn = KNeighborsClassifier(n_neighbors=17)"
   ]
  },
  {
   "cell_type": "code",
   "execution_count": 23,
   "id": "vocal-laptop",
   "metadata": {},
   "outputs": [
    {
     "data": {
      "text/plain": [
       "KNeighborsClassifier(n_neighbors=17)"
      ]
     },
     "execution_count": 23,
     "metadata": {},
     "output_type": "execute_result"
    }
   ],
   "source": [
    "knn.fit(X_train,y_train)"
   ]
  },
  {
   "cell_type": "code",
   "execution_count": 24,
   "id": "usual-adventure",
   "metadata": {},
   "outputs": [],
   "source": [
    "out = knn.predict(mesh)"
   ]
  },
  {
   "cell_type": "code",
   "execution_count": 25,
   "id": "inappropriate-tunisia",
   "metadata": {},
   "outputs": [
    {
     "name": "stdout",
     "output_type": "stream",
     "text": [
      "(358785,)\n"
     ]
    },
    {
     "data": {
      "text/plain": [
       "<matplotlib.collections.PathCollection at 0x1d86f4dae88>"
      ]
     },
     "execution_count": 25,
     "metadata": {},
     "output_type": "execute_result"
    },
    {
     "data": {
      "image/png": "[encoded data removed]",
      "text/plain": [
       "<Figure size 432x288 with 1 Axes>"
      ]
     },
     "metadata": {
      "needs_background": "light"
     },
     "output_type": "display_data"
    }
   ],
   "source": [
    "print(out.shape)\n",
    "plt.contourf(XX,YY,out.reshape(XX.shape))\n",
    "plt.scatter(X_train[:,0],X_train[:,1],c=y_train)"
   ]
  },
  {
   "cell_type": "markdown",
   "id": "realistic-laser",
   "metadata": {},
   "source": [
    "## Deep Learning Network using Keras"
   ]
  },
  {
   "cell_type": "code",
   "execution_count": 26,
   "id": "bored-clock",
   "metadata": {},
   "outputs": [
    {
     "name": "stdout",
     "output_type": "stream",
     "text": [
      "Epoch 1/250\n",
      "32/32 - 1s - loss: 2.2684 - accuracy: 0.0875\n",
      "Epoch 2/250\n",
      "32/32 - 0s - loss: 2.2197 - accuracy: 0.1469\n",
      "Epoch 3/250\n",
      "32/32 - 0s - loss: 2.1733 - accuracy: 0.1594\n",
      "Epoch 4/250\n",
      "32/32 - 0s - loss: 2.1289 - accuracy: 0.1813\n",
      "Epoch 5/250\n",
      "32/32 - 0s - loss: 2.0855 - accuracy: 0.2094\n",
      "Epoch 6/250\n",
      "32/32 - 0s - loss: 2.0434 - accuracy: 0.2188\n",
      "Epoch 7/250\n",
      "32/32 - 0s - loss: 2.0023 - accuracy: 0.2438\n",
      "Epoch 8/250\n",
      "32/32 - 0s - loss: 1.9607 - accuracy: 0.2594\n",
      "Epoch 9/250\n",
      "32/32 - 0s - loss: 1.9199 - accuracy: 0.2719\n",
      "Epoch 10/250\n",
      "32/32 - 0s - loss: 1.8785 - accuracy: 0.3000\n",
      "Epoch 11/250\n",
      "32/32 - 0s - loss: 1.8369 - accuracy: 0.3344\n",
      "Epoch 12/250\n",
      "32/32 - 0s - loss: 1.7943 - accuracy: 0.3812\n",
      "Epoch 13/250\n",
      "32/32 - 0s - loss: 1.7514 - accuracy: 0.4187\n",
      "Epoch 14/250\n",
      "32/32 - 0s - loss: 1.7079 - accuracy: 0.4375\n",
      "Epoch 15/250\n",
      "32/32 - 0s - loss: 1.6636 - accuracy: 0.4781\n",
      "Epoch 16/250\n",
      "32/32 - 0s - loss: 1.6192 - accuracy: 0.5094\n",
      "Epoch 17/250\n",
      "32/32 - 0s - loss: 1.5742 - accuracy: 0.5625\n",
      "Epoch 18/250\n",
      "32/32 - 0s - loss: 1.5289 - accuracy: 0.6187\n",
      "Epoch 19/250\n",
      "32/32 - 0s - loss: 1.4832 - accuracy: 0.6594\n",
      "Epoch 20/250\n",
      "32/32 - 0s - loss: 1.4371 - accuracy: 0.6812\n",
      "Epoch 21/250\n",
      "32/32 - 0s - loss: 1.3898 - accuracy: 0.7094\n",
      "Epoch 22/250\n",
      "32/32 - 0s - loss: 1.3419 - accuracy: 0.7344\n",
      "Epoch 23/250\n",
      "32/32 - 0s - loss: 1.2934 - accuracy: 0.7500\n",
      "Epoch 24/250\n",
      "32/32 - 0s - loss: 1.2433 - accuracy: 0.7719\n",
      "Epoch 25/250\n",
      "32/32 - 0s - loss: 1.1934 - accuracy: 0.8062\n",
      "Epoch 26/250\n",
      "32/32 - 0s - loss: 1.1447 - accuracy: 0.8125\n",
      "Epoch 27/250\n",
      "32/32 - 0s - loss: 1.0979 - accuracy: 0.8188\n",
      "Epoch 28/250\n",
      "32/32 - 0s - loss: 1.0524 - accuracy: 0.8250\n",
      "Epoch 29/250\n",
      "32/32 - 0s - loss: 1.0085 - accuracy: 0.8219\n",
      "Epoch 30/250\n",
      "32/32 - 0s - loss: 0.9663 - accuracy: 0.8313\n",
      "Epoch 31/250\n",
      "32/32 - 0s - loss: 0.9255 - accuracy: 0.8406\n",
      "Epoch 32/250\n",
      "32/32 - 0s - loss: 0.8868 - accuracy: 0.8500\n",
      "Epoch 33/250\n",
      "32/32 - 0s - loss: 0.8499 - accuracy: 0.8625\n",
      "Epoch 34/250\n",
      "32/32 - 0s - loss: 0.8141 - accuracy: 0.8656\n",
      "Epoch 35/250\n",
      "32/32 - 0s - loss: 0.7807 - accuracy: 0.8625\n",
      "Epoch 36/250\n",
      "32/32 - 0s - loss: 0.7487 - accuracy: 0.8687\n",
      "Epoch 37/250\n",
      "32/32 - 0s - loss: 0.7184 - accuracy: 0.8687\n",
      "Epoch 38/250\n",
      "32/32 - 0s - loss: 0.6901 - accuracy: 0.8687\n",
      "Epoch 39/250\n",
      "32/32 - 0s - loss: 0.6632 - accuracy: 0.8781\n",
      "Epoch 40/250\n",
      "32/32 - 0s - loss: 0.6383 - accuracy: 0.8719\n",
      "Epoch 41/250\n",
      "32/32 - 0s - loss: 0.6148 - accuracy: 0.8781\n",
      "Epoch 42/250\n",
      "32/32 - 0s - loss: 0.5928 - accuracy: 0.8750\n",
      "Epoch 43/250\n",
      "32/32 - 0s - loss: 0.5724 - accuracy: 0.8750\n",
      "Epoch 44/250\n",
      "32/32 - 0s - loss: 0.5537 - accuracy: 0.8750\n",
      "Epoch 45/250\n",
      "32/32 - 0s - loss: 0.5359 - accuracy: 0.8719\n",
      "Epoch 46/250\n",
      "32/32 - 0s - loss: 0.5195 - accuracy: 0.8719\n",
      "Epoch 47/250\n",
      "32/32 - 0s - loss: 0.5044 - accuracy: 0.8719\n",
      "Epoch 48/250\n",
      "32/32 - 0s - loss: 0.4906 - accuracy: 0.8750\n",
      "Epoch 49/250\n",
      "32/32 - 0s - loss: 0.4774 - accuracy: 0.8781\n",
      "Epoch 50/250\n",
      "32/32 - 0s - loss: 0.4652 - accuracy: 0.8813\n",
      "Epoch 51/250\n",
      "32/32 - 0s - loss: 0.4538 - accuracy: 0.8844\n",
      "Epoch 52/250\n",
      "32/32 - 0s - loss: 0.4435 - accuracy: 0.8844\n",
      "Epoch 53/250\n",
      "32/32 - 0s - loss: 0.4335 - accuracy: 0.8844\n",
      "Epoch 54/250\n",
      "32/32 - 0s - loss: 0.4243 - accuracy: 0.8844\n",
      "Epoch 55/250\n",
      "32/32 - 0s - loss: 0.4158 - accuracy: 0.8875\n",
      "Epoch 56/250\n",
      "32/32 - 0s - loss: 0.4077 - accuracy: 0.8938\n",
      "Epoch 57/250\n",
      "32/32 - 0s - loss: 0.4002 - accuracy: 0.8906\n",
      "Epoch 58/250\n",
      "32/32 - 0s - loss: 0.3931 - accuracy: 0.8938\n",
      "Epoch 59/250\n",
      "32/32 - 0s - loss: 0.3867 - accuracy: 0.8938\n",
      "Epoch 60/250\n",
      "32/32 - 0s - loss: 0.3801 - accuracy: 0.8938\n",
      "Epoch 61/250\n",
      "32/32 - 0s - loss: 0.3743 - accuracy: 0.8938\n",
      "Epoch 62/250\n",
      "32/32 - 0s - loss: 0.3686 - accuracy: 0.8938\n",
      "Epoch 63/250\n",
      "32/32 - 0s - loss: 0.3633 - accuracy: 0.8938\n",
      "Epoch 64/250\n",
      "32/32 - 0s - loss: 0.3582 - accuracy: 0.8969\n",
      "Epoch 65/250\n",
      "32/32 - 0s - loss: 0.3536 - accuracy: 0.8938\n",
      "Epoch 66/250\n",
      "32/32 - 0s - loss: 0.3493 - accuracy: 0.8938\n",
      "Epoch 67/250\n",
      "32/32 - 0s - loss: 0.3446 - accuracy: 0.8969\n",
      "Epoch 68/250\n",
      "32/32 - 0s - loss: 0.3404 - accuracy: 0.8969\n",
      "Epoch 69/250\n",
      "32/32 - 0s - loss: 0.3366 - accuracy: 0.8969\n",
      "Epoch 70/250\n",
      "32/32 - 0s - loss: 0.3329 - accuracy: 0.8969\n",
      "Epoch 71/250\n",
      "32/32 - 0s - loss: 0.3296 - accuracy: 0.8969\n",
      "Epoch 72/250\n",
      "32/32 - 0s - loss: 0.3259 - accuracy: 0.8969\n",
      "Epoch 73/250\n",
      "32/32 - 0s - loss: 0.3227 - accuracy: 0.8969\n",
      "Epoch 74/250\n",
      "32/32 - 0s - loss: 0.3197 - accuracy: 0.8969\n",
      "Epoch 75/250\n",
      "32/32 - 0s - loss: 0.3167 - accuracy: 0.8969\n",
      "Epoch 76/250\n",
      "32/32 - 0s - loss: 0.3138 - accuracy: 0.8969\n",
      "Epoch 77/250\n",
      "32/32 - 0s - loss: 0.3113 - accuracy: 0.8969\n",
      "Epoch 78/250\n",
      "32/32 - 0s - loss: 0.3084 - accuracy: 0.9031\n",
      "Epoch 79/250\n",
      "32/32 - 0s - loss: 0.3058 - accuracy: 0.9000\n",
      "Epoch 80/250\n",
      "32/32 - 0s - loss: 0.3034 - accuracy: 0.9000\n",
      "Epoch 81/250\n",
      "32/32 - 0s - loss: 0.3011 - accuracy: 0.9000\n",
      "Epoch 82/250\n",
      "32/32 - 0s - loss: 0.2991 - accuracy: 0.9000\n",
      "Epoch 83/250\n",
      "32/32 - 0s - loss: 0.2966 - accuracy: 0.9000\n",
      "Epoch 84/250\n",
      "32/32 - 0s - loss: 0.2946 - accuracy: 0.9031\n",
      "Epoch 85/250\n",
      "32/32 - 0s - loss: 0.2926 - accuracy: 0.9031\n",
      "Epoch 86/250\n",
      "32/32 - 0s - loss: 0.2907 - accuracy: 0.9031\n",
      "Epoch 87/250\n",
      "32/32 - 0s - loss: 0.2888 - accuracy: 0.9031\n",
      "Epoch 88/250\n",
      "32/32 - 0s - loss: 0.2869 - accuracy: 0.9031\n",
      "Epoch 89/250\n",
      "32/32 - 0s - loss: 0.2851 - accuracy: 0.9031\n",
      "Epoch 90/250\n",
      "32/32 - 0s - loss: 0.2837 - accuracy: 0.9031\n",
      "Epoch 91/250\n",
      "32/32 - 0s - loss: 0.2818 - accuracy: 0.9031\n",
      "Epoch 92/250\n",
      "32/32 - 0s - loss: 0.2802 - accuracy: 0.9000\n",
      "Epoch 93/250\n",
      "32/32 - 0s - loss: 0.2791 - accuracy: 0.9062\n",
      "Epoch 94/250\n",
      "32/32 - 0s - loss: 0.2772 - accuracy: 0.9000\n",
      "Epoch 95/250\n",
      "32/32 - 0s - loss: 0.2757 - accuracy: 0.9000\n",
      "Epoch 96/250\n",
      "32/32 - 0s - loss: 0.2742 - accuracy: 0.9031\n",
      "Epoch 97/250\n",
      "32/32 - 0s - loss: 0.2730 - accuracy: 0.9000\n",
      "Epoch 98/250\n",
      "32/32 - 0s - loss: 0.2718 - accuracy: 0.9031\n",
      "Epoch 99/250\n",
      "32/32 - 0s - loss: 0.2703 - accuracy: 0.9031\n",
      "Epoch 100/250\n",
      "32/32 - 0s - loss: 0.2689 - accuracy: 0.9031\n",
      "Epoch 101/250\n",
      "32/32 - 0s - loss: 0.2678 - accuracy: 0.9031\n",
      "Epoch 102/250\n",
      "32/32 - 0s - loss: 0.2666 - accuracy: 0.9031\n",
      "Epoch 103/250\n",
      "32/32 - 0s - loss: 0.2655 - accuracy: 0.9031\n",
      "Epoch 104/250\n",
      "32/32 - 0s - loss: 0.2644 - accuracy: 0.9031\n",
      "Epoch 105/250\n",
      "32/32 - 0s - loss: 0.2632 - accuracy: 0.9031\n",
      "Epoch 106/250\n",
      "32/32 - 0s - loss: 0.2622 - accuracy: 0.9031\n",
      "Epoch 107/250\n",
      "32/32 - 0s - loss: 0.2613 - accuracy: 0.9031\n",
      "Epoch 108/250\n",
      "32/32 - 0s - loss: 0.2602 - accuracy: 0.9031\n",
      "Epoch 109/250\n",
      "32/32 - 0s - loss: 0.2592 - accuracy: 0.9031\n",
      "Epoch 110/250\n",
      "32/32 - 0s - loss: 0.2582 - accuracy: 0.9031\n",
      "Epoch 111/250\n",
      "32/32 - 0s - loss: 0.2572 - accuracy: 0.9031\n",
      "Epoch 112/250\n",
      "32/32 - 0s - loss: 0.2564 - accuracy: 0.9062\n",
      "Epoch 113/250\n",
      "32/32 - 0s - loss: 0.2554 - accuracy: 0.9094\n",
      "Epoch 114/250\n",
      "32/32 - 0s - loss: 0.2546 - accuracy: 0.9094\n",
      "Epoch 115/250\n",
      "32/32 - 0s - loss: 0.2538 - accuracy: 0.9094\n",
      "Epoch 116/250\n",
      "32/32 - 0s - loss: 0.2529 - accuracy: 0.9094\n",
      "Epoch 117/250\n",
      "32/32 - 0s - loss: 0.2520 - accuracy: 0.9062\n",
      "Epoch 118/250\n",
      "32/32 - 0s - loss: 0.2515 - accuracy: 0.9062\n",
      "Epoch 119/250\n",
      "32/32 - 0s - loss: 0.2505 - accuracy: 0.9062\n",
      "Epoch 120/250\n",
      "32/32 - 0s - loss: 0.2498 - accuracy: 0.9062\n",
      "Epoch 121/250\n",
      "32/32 - 0s - loss: 0.2490 - accuracy: 0.9094\n",
      "Epoch 122/250\n",
      "32/32 - 0s - loss: 0.2483 - accuracy: 0.9094\n",
      "Epoch 123/250\n",
      "32/32 - 0s - loss: 0.2476 - accuracy: 0.9094\n",
      "Epoch 124/250\n",
      "32/32 - 0s - loss: 0.2470 - accuracy: 0.9094\n",
      "Epoch 125/250\n",
      "32/32 - 0s - loss: 0.2467 - accuracy: 0.9094\n",
      "Epoch 126/250\n",
      "32/32 - 0s - loss: 0.2457 - accuracy: 0.9094\n",
      "Epoch 127/250\n",
      "32/32 - 0s - loss: 0.2451 - accuracy: 0.9094\n",
      "Epoch 128/250\n",
      "32/32 - 0s - loss: 0.2446 - accuracy: 0.9094\n",
      "Epoch 129/250\n",
      "32/32 - 0s - loss: 0.2441 - accuracy: 0.9062\n",
      "Epoch 130/250\n",
      "32/32 - 0s - loss: 0.2432 - accuracy: 0.9094\n",
      "Epoch 131/250\n",
      "32/32 - 0s - loss: 0.2427 - accuracy: 0.9094\n",
      "Epoch 132/250\n",
      "32/32 - 0s - loss: 0.2421 - accuracy: 0.9094\n",
      "Epoch 133/250\n",
      "32/32 - 0s - loss: 0.2415 - accuracy: 0.9062\n",
      "Epoch 134/250\n",
      "32/32 - 0s - loss: 0.2409 - accuracy: 0.9062\n",
      "Epoch 135/250\n",
      "32/32 - 0s - loss: 0.2405 - accuracy: 0.9094\n",
      "Epoch 136/250\n",
      "32/32 - 0s - loss: 0.2400 - accuracy: 0.9062\n",
      "Epoch 137/250\n",
      "32/32 - 0s - loss: 0.2395 - accuracy: 0.9094\n",
      "Epoch 138/250\n",
      "32/32 - 0s - loss: 0.2388 - accuracy: 0.9062\n",
      "Epoch 139/250\n",
      "32/32 - 0s - loss: 0.2385 - accuracy: 0.9062\n",
      "Epoch 140/250\n",
      "32/32 - 0s - loss: 0.2381 - accuracy: 0.9062\n",
      "Epoch 141/250\n",
      "32/32 - 0s - loss: 0.2374 - accuracy: 0.9094\n"
     ]
    },
    {
     "name": "stdout",
     "output_type": "stream",
     "text": [
      "Epoch 142/250\n",
      "32/32 - 0s - loss: 0.2371 - accuracy: 0.9125\n",
      "Epoch 143/250\n",
      "32/32 - 0s - loss: 0.2365 - accuracy: 0.9094\n",
      "Epoch 144/250\n",
      "32/32 - 0s - loss: 0.2362 - accuracy: 0.9125\n",
      "Epoch 145/250\n",
      "32/32 - 0s - loss: 0.2358 - accuracy: 0.9125\n",
      "Epoch 146/250\n",
      "32/32 - 0s - loss: 0.2352 - accuracy: 0.9125\n",
      "Epoch 147/250\n",
      "32/32 - 0s - loss: 0.2350 - accuracy: 0.9125\n",
      "Epoch 148/250\n",
      "32/32 - 0s - loss: 0.2344 - accuracy: 0.9094\n",
      "Epoch 149/250\n",
      "32/32 - 0s - loss: 0.2339 - accuracy: 0.9125\n",
      "Epoch 150/250\n",
      "32/32 - 0s - loss: 0.2336 - accuracy: 0.9125\n",
      "Epoch 151/250\n",
      "32/32 - 0s - loss: 0.2336 - accuracy: 0.9125\n",
      "Epoch 152/250\n",
      "32/32 - 0s - loss: 0.2330 - accuracy: 0.9125\n",
      "Epoch 153/250\n",
      "32/32 - 0s - loss: 0.2324 - accuracy: 0.9125\n",
      "Epoch 154/250\n",
      "32/32 - 0s - loss: 0.2324 - accuracy: 0.9094\n",
      "Epoch 155/250\n",
      "32/32 - 0s - loss: 0.2317 - accuracy: 0.9125\n",
      "Epoch 156/250\n",
      "32/32 - 0s - loss: 0.2315 - accuracy: 0.9125\n",
      "Epoch 157/250\n",
      "32/32 - 0s - loss: 0.2310 - accuracy: 0.9125\n",
      "Epoch 158/250\n",
      "32/32 - 0s - loss: 0.2306 - accuracy: 0.9125\n",
      "Epoch 159/250\n",
      "32/32 - 0s - loss: 0.2305 - accuracy: 0.9125\n",
      "Epoch 160/250\n",
      "32/32 - 0s - loss: 0.2301 - accuracy: 0.9125\n",
      "Epoch 161/250\n",
      "32/32 - 0s - loss: 0.2296 - accuracy: 0.9125\n",
      "Epoch 162/250\n",
      "32/32 - 0s - loss: 0.2297 - accuracy: 0.9125\n",
      "Epoch 163/250\n",
      "32/32 - 0s - loss: 0.2292 - accuracy: 0.9125\n",
      "Epoch 164/250\n",
      "32/32 - 0s - loss: 0.2289 - accuracy: 0.9156\n",
      "Epoch 165/250\n",
      "32/32 - 0s - loss: 0.2288 - accuracy: 0.9125\n",
      "Epoch 166/250\n",
      "32/32 - 0s - loss: 0.2284 - accuracy: 0.9125\n",
      "Epoch 167/250\n",
      "32/32 - 0s - loss: 0.2281 - accuracy: 0.9125\n",
      "Epoch 168/250\n",
      "32/32 - 0s - loss: 0.2277 - accuracy: 0.9125\n",
      "Epoch 169/250\n",
      "32/32 - 0s - loss: 0.2277 - accuracy: 0.9156\n",
      "Epoch 170/250\n",
      "32/32 - 0s - loss: 0.2274 - accuracy: 0.9156\n",
      "Epoch 171/250\n",
      "32/32 - 0s - loss: 0.2269 - accuracy: 0.9156\n",
      "Epoch 172/250\n",
      "32/32 - 0s - loss: 0.2267 - accuracy: 0.9156\n",
      "Epoch 173/250\n",
      "32/32 - 0s - loss: 0.2264 - accuracy: 0.9156\n",
      "Epoch 174/250\n",
      "32/32 - 0s - loss: 0.2261 - accuracy: 0.9156\n",
      "Epoch 175/250\n",
      "32/32 - 0s - loss: 0.2262 - accuracy: 0.9156\n",
      "Epoch 176/250\n",
      "32/32 - 0s - loss: 0.2257 - accuracy: 0.9187\n",
      "Epoch 177/250\n",
      "32/32 - 0s - loss: 0.2255 - accuracy: 0.9219\n",
      "Epoch 178/250\n",
      "32/32 - 0s - loss: 0.2253 - accuracy: 0.9187\n",
      "Epoch 179/250\n",
      "32/32 - 0s - loss: 0.2250 - accuracy: 0.9156\n",
      "Epoch 180/250\n",
      "32/32 - 0s - loss: 0.2249 - accuracy: 0.9219\n",
      "Epoch 181/250\n",
      "32/32 - 0s - loss: 0.2245 - accuracy: 0.9219\n",
      "Epoch 182/250\n",
      "32/32 - 0s - loss: 0.2246 - accuracy: 0.9156\n",
      "Epoch 183/250\n",
      "32/32 - 0s - loss: 0.2241 - accuracy: 0.9219\n",
      "Epoch 184/250\n",
      "32/32 - 0s - loss: 0.2241 - accuracy: 0.9219\n",
      "Epoch 185/250\n",
      "32/32 - 0s - loss: 0.2238 - accuracy: 0.9219\n",
      "Epoch 186/250\n",
      "32/32 - 0s - loss: 0.2235 - accuracy: 0.9219\n",
      "Epoch 187/250\n",
      "32/32 - 0s - loss: 0.2233 - accuracy: 0.9219\n",
      "Epoch 188/250\n",
      "32/32 - 0s - loss: 0.2230 - accuracy: 0.9219\n",
      "Epoch 189/250\n",
      "32/32 - 0s - loss: 0.2232 - accuracy: 0.9219\n",
      "Epoch 190/250\n",
      "32/32 - 0s - loss: 0.2229 - accuracy: 0.9219\n",
      "Epoch 191/250\n",
      "32/32 - 0s - loss: 0.2226 - accuracy: 0.9219\n",
      "Epoch 192/250\n",
      "32/32 - 0s - loss: 0.2226 - accuracy: 0.9219\n",
      "Epoch 193/250\n",
      "32/32 - 0s - loss: 0.2226 - accuracy: 0.9219\n",
      "Epoch 194/250\n",
      "32/32 - 0s - loss: 0.2221 - accuracy: 0.9219\n",
      "Epoch 195/250\n",
      "32/32 - 0s - loss: 0.2218 - accuracy: 0.9219\n",
      "Epoch 196/250\n",
      "32/32 - 0s - loss: 0.2217 - accuracy: 0.9219\n",
      "Epoch 197/250\n",
      "32/32 - 0s - loss: 0.2217 - accuracy: 0.9219\n",
      "Epoch 198/250\n",
      "32/32 - 0s - loss: 0.2215 - accuracy: 0.9219\n",
      "Epoch 199/250\n",
      "32/32 - 0s - loss: 0.2213 - accuracy: 0.9219\n",
      "Epoch 200/250\n",
      "32/32 - 0s - loss: 0.2211 - accuracy: 0.9219\n",
      "Epoch 201/250\n",
      "32/32 - 0s - loss: 0.2209 - accuracy: 0.9219\n",
      "Epoch 202/250\n",
      "32/32 - 0s - loss: 0.2209 - accuracy: 0.9219\n",
      "Epoch 203/250\n",
      "32/32 - 0s - loss: 0.2206 - accuracy: 0.9219\n",
      "Epoch 204/250\n",
      "32/32 - 0s - loss: 0.2206 - accuracy: 0.9219\n",
      "Epoch 205/250\n",
      "32/32 - 0s - loss: 0.2203 - accuracy: 0.9219\n",
      "Epoch 206/250\n",
      "32/32 - 0s - loss: 0.2202 - accuracy: 0.9219\n",
      "Epoch 207/250\n",
      "32/32 - 0s - loss: 0.2200 - accuracy: 0.9219\n",
      "Epoch 208/250\n",
      "32/32 - 0s - loss: 0.2199 - accuracy: 0.9219\n",
      "Epoch 209/250\n",
      "32/32 - 0s - loss: 0.2198 - accuracy: 0.9219\n",
      "Epoch 210/250\n",
      "32/32 - 0s - loss: 0.2195 - accuracy: 0.9219\n",
      "Epoch 211/250\n",
      "32/32 - 0s - loss: 0.2196 - accuracy: 0.9219\n",
      "Epoch 212/250\n",
      "32/32 - 0s - loss: 0.2193 - accuracy: 0.9219\n",
      "Epoch 213/250\n",
      "32/32 - 0s - loss: 0.2195 - accuracy: 0.9219\n",
      "Epoch 214/250\n",
      "32/32 - 0s - loss: 0.2193 - accuracy: 0.9219\n",
      "Epoch 215/250\n",
      "32/32 - 0s - loss: 0.2189 - accuracy: 0.9219\n",
      "Epoch 216/250\n",
      "32/32 - 0s - loss: 0.2188 - accuracy: 0.9219\n",
      "Epoch 217/250\n",
      "32/32 - 0s - loss: 0.2187 - accuracy: 0.9219\n",
      "Epoch 218/250\n",
      "32/32 - 0s - loss: 0.2186 - accuracy: 0.9219\n",
      "Epoch 219/250\n",
      "32/32 - 0s - loss: 0.2186 - accuracy: 0.9219\n",
      "Epoch 220/250\n",
      "32/32 - 0s - loss: 0.2184 - accuracy: 0.9219\n",
      "Epoch 221/250\n",
      "32/32 - 0s - loss: 0.2184 - accuracy: 0.9219\n",
      "Epoch 222/250\n",
      "32/32 - 0s - loss: 0.2183 - accuracy: 0.9219\n",
      "Epoch 223/250\n",
      "32/32 - 0s - loss: 0.2179 - accuracy: 0.9219\n",
      "Epoch 224/250\n",
      "32/32 - 0s - loss: 0.2179 - accuracy: 0.9219\n",
      "Epoch 225/250\n",
      "32/32 - 0s - loss: 0.2177 - accuracy: 0.9219\n",
      "Epoch 226/250\n",
      "32/32 - 0s - loss: 0.2177 - accuracy: 0.9219\n",
      "Epoch 227/250\n",
      "32/32 - 0s - loss: 0.2177 - accuracy: 0.9219\n",
      "Epoch 228/250\n",
      "32/32 - 0s - loss: 0.2174 - accuracy: 0.9219\n",
      "Epoch 229/250\n",
      "32/32 - 0s - loss: 0.2174 - accuracy: 0.9219\n",
      "Epoch 230/250\n",
      "32/32 - 0s - loss: 0.2174 - accuracy: 0.9219\n",
      "Epoch 231/250\n",
      "32/32 - 0s - loss: 0.2170 - accuracy: 0.9219\n",
      "Epoch 232/250\n",
      "32/32 - 0s - loss: 0.2170 - accuracy: 0.9219\n",
      "Epoch 233/250\n",
      "32/32 - 0s - loss: 0.2171 - accuracy: 0.9219\n",
      "Epoch 234/250\n",
      "32/32 - 0s - loss: 0.2169 - accuracy: 0.9219\n",
      "Epoch 235/250\n",
      "32/32 - 0s - loss: 0.2167 - accuracy: 0.9219\n",
      "Epoch 236/250\n",
      "32/32 - 0s - loss: 0.2166 - accuracy: 0.9219\n",
      "Epoch 237/250\n",
      "32/32 - 0s - loss: 0.2166 - accuracy: 0.9219\n",
      "Epoch 238/250\n",
      "32/32 - 0s - loss: 0.2168 - accuracy: 0.9219\n",
      "Epoch 239/250\n",
      "32/32 - 0s - loss: 0.2163 - accuracy: 0.9219\n",
      "Epoch 240/250\n",
      "32/32 - 0s - loss: 0.2162 - accuracy: 0.9219\n",
      "Epoch 241/250\n",
      "32/32 - 0s - loss: 0.2161 - accuracy: 0.9219\n",
      "Epoch 242/250\n",
      "32/32 - 0s - loss: 0.2161 - accuracy: 0.9219\n",
      "Epoch 243/250\n",
      "32/32 - 0s - loss: 0.2161 - accuracy: 0.9219\n",
      "Epoch 244/250\n",
      "32/32 - 0s - loss: 0.2158 - accuracy: 0.9219\n",
      "Epoch 245/250\n",
      "32/32 - 0s - loss: 0.2158 - accuracy: 0.9219\n",
      "Epoch 246/250\n",
      "32/32 - 0s - loss: 0.2157 - accuracy: 0.9219\n",
      "Epoch 247/250\n",
      "32/32 - 0s - loss: 0.2157 - accuracy: 0.9219\n",
      "Epoch 248/250\n",
      "32/32 - 0s - loss: 0.2155 - accuracy: 0.9219\n",
      "Epoch 249/250\n",
      "32/32 - 0s - loss: 0.2153 - accuracy: 0.9219\n",
      "Epoch 250/250\n",
      "32/32 - 0s - loss: 0.2154 - accuracy: 0.9219\n"
     ]
    },
    {
     "data": {
      "text/plain": [
       "<tensorflow.python.keras.callbacks.History at 0x1d86f6f8b88>"
      ]
     },
     "execution_count": 26,
     "metadata": {},
     "output_type": "execute_result"
    }
   ],
   "source": [
    "model = Sequential([\n",
    "    Dense(units=16, input_shape=(2,), activation='relu'),\n",
    "    Dense(units=32, activation='relu'),\n",
    "#      Dense(units=16,activation='relu'),\n",
    "    Dense(units=8, activation='softmax')\n",
    "    ])\n",
    "    \n",
    "model.compile(optimizer=Adam(learning_rate=0.0001), loss='sparse_categorical_crossentropy', metrics=['accuracy'])\n",
    "    \n",
    "model.fit(x=X_train, y=y_train, batch_size=10, epochs=250, verbose=2)"
   ]
  },
  {
   "cell_type": "code",
   "execution_count": 27,
   "id": "focal-audio",
   "metadata": {},
   "outputs": [],
   "source": [
    "y_pred = model.predict(mesh)\n",
    "out = np.argmax(y_pred,axis=-1)"
   ]
  },
  {
   "cell_type": "code",
   "execution_count": 28,
   "id": "metallic-shareware",
   "metadata": {},
   "outputs": [
    {
     "data": {
      "text/plain": [
       "<matplotlib.collections.PathCollection at 0x1d86fbc4488>"
      ]
     },
     "execution_count": 28,
     "metadata": {},
     "output_type": "execute_result"
    },
    {
     "data": {
      "image/png": "[encoded data removed]",
      "text/plain": [
       "<Figure size 432x288 with 1 Axes>"
      ]
     },
     "metadata": {
      "needs_background": "light"
     },
     "output_type": "display_data"
    }
   ],
   "source": [
    "plt.contourf(XX,YY,out.reshape(XX.shape))\n",
    "plt.scatter(X_train[:,0],X_train[:,1],c=y_train)"
   ]
  },
  {
   "cell_type": "markdown",
   "id": "floral-preservation",
   "metadata": {},
   "source": [
    "## Decision Tree classifier written from scratch"
   ]
  },
  {
   "cell_type": "code",
   "execution_count": 29,
   "id": "basic-johnson",
   "metadata": {},
   "outputs": [],
   "source": [
    "own_tree = DecisionTree(max_depth=8,n_feats=2)"
   ]
  },
  {
   "cell_type": "code",
   "execution_count": 30,
   "id": "center-christian",
   "metadata": {},
   "outputs": [
    {
     "name": "stdout",
     "output_type": "stream",
     "text": [
      "[0 0 0 0 0 0 0 0 0 0 0 0 0 0 0 0 0 0 0 0 0 0 0 0 0 0 0 0 0 0 0 0 0 0 0 0 0\n",
      " 0 0 0 0 0 0 0 0 0 0 0 0 0 0 0 0 0 0 0 0 0 0 0 0 0 0 0 0 0 0 0 0 0 0 0 0 0\n",
      " 0 0 0 0 0 0 0 0 0 0 0 0 0 0 0 0 0 0 0 0 0 0 0 0 0 0 0 0 0 0 0 0 0 0 0 0 0\n",
      " 0 0 0 0 0 0 0 0 0 0 0 0 0 0 0 0 0 0]\n",
      "[0 0 0 0 0 0 0 0 0 0 0 0 0 0 0 0 0 0 0 0 0 0 0 0 0 0 0 0 0 0 0 0 0]\n",
      "[1]\n",
      "[1 0 0 0]\n",
      "[0 0 0 0 0 0 0 0 0 0]\n",
      "[0 0 0 0 1 0 1]\n",
      "[0 0 0 0 0 0]\n",
      "[1]\n",
      "[0 0 0]\n",
      "[1 1 1 1 1 1 1 1 1 1]\n",
      "[0]\n",
      "[1 0 0]\n",
      "[0 1 1 0]\n",
      "[1 1]\n",
      "[1 1 1 1 1 1 1 1 1 1 1 1 1 1 1 1]\n",
      "[1 1]\n",
      "[0]\n",
      "[1 1 1]\n",
      "[1 1 1 1 1 1 1 1 1 1 1 1 1]\n",
      "[0]\n",
      "[1 1 1]\n",
      "[1]\n",
      "[0 0 0]\n",
      "[1 1 1]\n",
      "[0 0]\n",
      "[1]\n",
      "[0]\n",
      "[1 1 1 1 1 1 1 1 1 1]\n",
      "[0]\n",
      "[1 1 1 1]\n",
      "[0 0 1 1 1 1 1]\n",
      "[1 1]\n",
      "[1 1 1 1 1 1 1 1 1 1 1 1 1 1 1 1 1 1 1 1 1]\n",
      "[1 1]\n",
      "[0]\n",
      "[1 1]\n",
      "[1 1 1 1 1 1]\n"
     ]
    }
   ],
   "source": [
    "own_tree.fit(X_train,y_train)"
   ]
  },
  {
   "cell_type": "code",
   "execution_count": 31,
   "id": "married-timber",
   "metadata": {},
   "outputs": [],
   "source": [
    "out = own_tree.predict(mesh)"
   ]
  },
  {
   "cell_type": "code",
   "execution_count": 32,
   "id": "approximate-integral",
   "metadata": {
    "scrolled": true
   },
   "outputs": [
    {
     "data": {
      "text/plain": [
       "<matplotlib.collections.PathCollection at 0x1d86f204dc8>"
      ]
     },
     "execution_count": 32,
     "metadata": {},
     "output_type": "execute_result"
    },
    {
     "data": {
      "image/png": "[encoded data removed]",
      "text/plain": [
       "<Figure size 432x288 with 1 Axes>"
      ]
     },
     "metadata": {
      "needs_background": "light"
     },
     "output_type": "display_data"
    }
   ],
   "source": [
    "plt.contourf(XX,YY,out.reshape(XX.shape))\n",
    "plt.scatter(X_train[:,0],X_train[:,1],c=y_train)"
   ]
  },
  {
   "cell_type": "markdown",
   "id": "marked-healing",
   "metadata": {},
   "source": [
    "## The accuracy of the Decision Tree model"
   ]
  },
  {
   "cell_type": "code",
   "execution_count": 33,
   "id": "prescription-static",
   "metadata": {},
   "outputs": [
    {
     "data": {
      "text/plain": [
       "0.875"
      ]
     },
     "execution_count": 33,
     "metadata": {},
     "output_type": "execute_result"
    }
   ],
   "source": [
    "y_pred = own_tree.predict(X_test)\n",
    "accuracy = sum(y_test==y_pred)/len(y_test)\n",
    "accuracy"
   ]
  },
  {
   "cell_type": "code",
   "execution_count": null,
   "id": "imposed-accent",
   "metadata": {},
   "outputs": [],
   "source": []
  }
 ],
 "metadata": {
  "kernelspec": {
   "display_name": "Python 3",
   "language": "python",
   "name": "python3"
  },
  "language_info": {
   "codemirror_mode": {
    "name": "ipython",
    "version": 3
   },
   "file_extension": ".py",
   "mimetype": "text/x-python",
   "name": "python",
   "nbconvert_exporter": "python",
   "pygments_lexer": "ipython3",
   "version": "3.7.9"
  }
 },
 "nbformat": 4,
 "nbformat_minor": 5
}
